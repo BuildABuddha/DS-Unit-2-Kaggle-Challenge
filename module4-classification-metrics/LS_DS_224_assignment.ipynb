{
  "nbformat": 4,
  "nbformat_minor": 0,
  "metadata": {
    "kernelspec": {
      "display_name": "Python 3",
      "language": "python",
      "name": "python3"
    },
    "language_info": {
      "codemirror_mode": {
        "name": "ipython",
        "version": 3
      },
      "file_extension": ".py",
      "mimetype": "text/x-python",
      "name": "python",
      "nbconvert_exporter": "python",
      "pygments_lexer": "ipython3",
      "version": "3.7.6"
    },
    "colab": {
      "name": "LS_DS_224_assignment.ipynb",
      "provenance": []
    }
  },
  "cells": [
    {
      "cell_type": "markdown",
      "metadata": {
        "id": "QHPy4Bp5NcNY",
        "colab_type": "text"
      },
      "source": [
        "Lambda School Data Science\n",
        "\n",
        "*Unit 2, Sprint 2, Module 4*\n",
        "\n",
        "---"
      ]
    },
    {
      "cell_type": "markdown",
      "metadata": {
        "colab_type": "text",
        "id": "nCc3XZEyG3XV"
      },
      "source": [
        "# Classification Metrics\n",
        "\n",
        "## Assignment\n",
        "- [ ] If you haven't yet, [review requirements for your portfolio project](https://lambdaschool.github.io/ds/unit2), then submit your dataset.\n",
        "- [ ] Plot a confusion matrix for your Tanzania Waterpumps model.\n",
        "- [ ] Continue to participate in our Kaggle challenge. Every student should have made at least one submission that scores at least 70% accuracy (well above the majority class baseline).\n",
        "- [ ] Submit your final predictions to our Kaggle competition. Optionally, go to **My Submissions**, and _\"you may select up to 1 submission to be used to count towards your final leaderboard score.\"_\n",
        "- [ ] Commit your notebook to your fork of the GitHub repo.\n",
        "- [ ] Read [Maximizing Scarce Maintenance Resources with Data: Applying predictive modeling, precision at k, and clustering to optimize impact](https://towardsdatascience.com/maximizing-scarce-maintenance-resources-with-data-8f3491133050), by Lambda DS3 student Michael Brady. His blog post extends the Tanzania Waterpumps scenario, far beyond what's in the lecture notebook.\n",
        "\n",
        "\n",
        "## Stretch Goals\n",
        "\n",
        "### Reading\n",
        "\n",
        "- [Attacking discrimination with smarter machine learning](https://research.google.com/bigpicture/attacking-discrimination-in-ml/), by Google Research, with  interactive visualizations. _\"A threshold classifier essentially makes a yes/no decision, putting things in one category or another. We look at how these classifiers work, ways they can potentially be unfair, and how you might turn an unfair classifier into a fairer one. As an illustrative example, we focus on loan granting scenarios where a bank may grant or deny a loan based on a single, automatically computed number such as a credit score.\"_\n",
        "- [Notebook about how to calculate expected value from a confusion matrix by treating it as a cost-benefit matrix](https://github.com/podopie/DAT18NYC/blob/master/classes/13-expected_value_cost_benefit_analysis.ipynb)\n",
        "- [Visualizing Machine Learning Thresholds to Make Better Business Decisions](https://blog.insightdatascience.com/visualizing-machine-learning-thresholds-to-make-better-business-decisions-4ab07f823415)\n",
        "\n",
        "\n",
        "### Doing\n",
        "- [ ] Share visualizations in our Slack channel!\n",
        "- [ ] RandomizedSearchCV / GridSearchCV, for model selection. (See module 3 assignment notebook)\n",
        "- [ ] Stacking Ensemble. (See module 3 assignment notebook)\n",
        "- [ ] More Categorical Encoding. (See module 2 assignment notebook)"
      ]
    },
    {
      "cell_type": "code",
      "metadata": {
        "colab_type": "code",
        "id": "lsbRiKBoB5RE",
        "colab": {}
      },
      "source": [
        "%%capture\n",
        "import sys\n",
        "\n",
        "# If you're on Colab:\n",
        "if 'google.colab' in sys.modules:\n",
        "    DATA_PATH = 'https://raw.githubusercontent.com/LambdaSchool/DS-Unit-2-Kaggle-Challenge/master/data/'\n",
        "    !pip install category_encoders==2.*\n",
        "\n",
        "# If you're working locally:\n",
        "else:\n",
        "    DATA_PATH = '../data/'"
      ],
      "execution_count": 0,
      "outputs": []
    },
    {
      "cell_type": "code",
      "metadata": {
        "colab_type": "code",
        "id": "BVA1lph8CcNX",
        "colab": {}
      },
      "source": [
        "import pandas as pd\n",
        "\n",
        "# Merge train_features.csv & train_labels.csv\n",
        "train = pd.merge(pd.read_csv(DATA_PATH+'waterpumps/train_features.csv'), \n",
        "                 pd.read_csv(DATA_PATH+'waterpumps/train_labels.csv'))\n",
        "\n",
        "# Read test_features.csv & sample_submission.csv\n",
        "test = pd.read_csv(DATA_PATH+'waterpumps/test_features.csv')\n",
        "sample_submission = pd.read_csv(DATA_PATH+'waterpumps/sample_submission.csv')"
      ],
      "execution_count": 0,
      "outputs": []
    },
    {
      "cell_type": "code",
      "metadata": {
        "id": "ovtMXjbiNcNj",
        "colab_type": "code",
        "colab": {
          "base_uri": "https://localhost:8080/",
          "height": 34
        },
        "outputId": "e50dbb1d-1df3-42a2-9e8d-04e32406150c"
      },
      "source": [
        "from sklearn.model_selection import train_test_split\n",
        "\n",
        "# Split train into train & val\n",
        "train, val = train_test_split(train, train_size=0.80, test_size=0.20, \n",
        "                              stratify=train['status_group'], random_state=42)\n",
        "train.shape, val.shape"
      ],
      "execution_count": 4,
      "outputs": [
        {
          "output_type": "execute_result",
          "data": {
            "text/plain": [
              "((47520, 41), (11880, 41))"
            ]
          },
          "metadata": {
            "tags": []
          },
          "execution_count": 4
        }
      ]
    },
    {
      "cell_type": "code",
      "metadata": {
        "id": "_AckK-X9Qxg9",
        "colab_type": "code",
        "colab": {}
      },
      "source": [
        "import numpy as np\n",
        "\n",
        "def calculate_distance(lat1, lon1, lat2, lon2):\n",
        "    # Formula to calculate distance in KM between two points using lattitude \n",
        "    # and longitude.\n",
        "\n",
        "    R = 6373 # Radius of earth in km\n",
        "    lat1 = np.deg2rad(lat1)\n",
        "    lat2 = np.deg2rad(lat2)\n",
        "    lon1 = np.deg2rad(lon1)\n",
        "    lon2 = np.deg2rad(lon2)\n",
        "    \n",
        "    dlon = lon2 - lon1\n",
        "    dlat = lat2 - lat1\n",
        "    a = np.sin(dlat/2) * np.sin(dlat/2) + np.cos(lat1) * np.cos(lat2) * np.sin(dlon/2) * np.sin(dlon/2)\n",
        "    c = 2 * np.arctan2(np.sqrt(a), np.sqrt(1-a))\n",
        "    return R * c\n",
        "\n",
        "cities_dict = {\n",
        "    'Dar es Salaam' : [-6.8, 39.283333],\n",
        "    'Mwanza' : [-2.516667, 32.9],\n",
        "    'Arusha' : [-3.366667, 36.683333],\n",
        "    'Mbeya' : [-8.9, 33.45],\n",
        "    'Morogoro' : [-6.824167, 37.663333],\n",
        "    'Tanga' : [-5.066667, 39.1],\n",
        "    'Kahama' : [-3.8375, 32.6],\n",
        "    'Tabora' : [-5.016667, 32.8],\n",
        "    'Zanzibar City' : [-6.165, 39.199],\n",
        "    'Kigoma' : [-4.883333, 29.633333],\n",
        "    'Dodoma' : [-6.173056, 35.741944],\n",
        "    'Sumbawanga' : [-7.966667, 31.616667],\n",
        "    'Kasulu' : [4.58, 30.1],\n",
        "    'Songea' : [-10.683333, 35.65],\n",
        "    'Moshi' : [-3.334883, 37.340381],\n",
        "    'Musoma' : [-1.5, 33.8],\n",
        "    'Shinyanga' : [-3.661944, 33.423056],\n",
        "    'Iringa' : [-7.766667, 35.7],\n",
        "    'Singida' : [-4.816667, 34.75],\n",
        "    'Njombe' : [-9.333333, 34.766667],\n",
        "    }\n",
        "\n",
        "def closest_city(data):\n",
        "\n",
        "    lat = data[0]\n",
        "    lon = data[1]\n",
        "    try:\n",
        "        if np.isnan(lat) or np.isnan(lon):\n",
        "            return np.nan, np.nan\n",
        "    except:\n",
        "        return np.nan, np.nan\n",
        "\n",
        "    min_distance = 99999\n",
        "    closest_city = ''\n",
        "    for key in cities_dict.keys():\n",
        "        distance = calculate_distance(lat, lon, \n",
        "                                      cities_dict[key][0], cities_dict[key][1])\n",
        "        if distance < min_distance:\n",
        "            min_distance = distance\n",
        "            closest_city = key\n",
        "\n",
        "    return closest_city, min_distance\n",
        "\n",
        "def get_closest_city_name(data):\n",
        "    name, _ = closest_city(data)\n",
        "    return name\n",
        "\n",
        "def get_closest_city_distance(data):\n",
        "    _, distance = closest_city(data)\n",
        "    return distance\n",
        "\n",
        "def years(data):\n",
        "    if pd.isna(data[1]):\n",
        "        return np.nan\n",
        "    else:\n",
        "        return (data[0] - data[1].dt.year)\n",
        "\n",
        "def wrangle(X):\n",
        "    \"\"\"Wrangle train, validate, and test sets in the same way\"\"\"\n",
        "    \n",
        "    # Prevent SettingWithCopyWarning\n",
        "    X = X.copy()\n",
        "    \n",
        "    # About 3% of the time, latitude has small values near zero,\n",
        "    # outside Tanzania, so we'll treat these values like zero.\n",
        "    X['latitude'] = X['latitude'].replace(-2e-08, 0)\n",
        "    \n",
        "    # When columns have zeros and shouldn't, they are like null values.\n",
        "    # So we will replace the zeros with nulls, and impute missing values later.\n",
        "    cols_with_zeros = ['longitude', 'latitude', 'construction_year']\n",
        "    for col in cols_with_zeros:\n",
        "        X[col] = X[col].replace(0, np.nan)\n",
        "            \n",
        "    # quantity & quantity_group are duplicates, so drop one\n",
        "    duplicates = ['quantity_group', 'payment_type']\n",
        "    X = X.drop(columns=duplicates)\n",
        "\n",
        "    # convert date_recorded to datetime format\n",
        "    X['date_recorded'] = pd.to_datetime(X['date_recorded'], infer_datetime_format=True)\n",
        "    X['year_recorded'] = X['date_recorded'].dt.year\n",
        "    X['month_recorded'] = X['date_recorded'].dt.month\n",
        "    X['day_recorded'] = X['date_recorded'].dt.day\n",
        "    X = X.drop(columns='date_recorded')\n",
        "\n",
        "    # reduce cardinality:\n",
        "    high_cardinality_features = ['installer', 'funder', 'region', \n",
        "                                 'management']\n",
        "    for n in high_cardinality_features:\n",
        "        top10 = X[n].value_counts()[:15].index\n",
        "        X.loc[~X[n].isin(top10), n] = 'OTHER' \n",
        "\n",
        "    # create two new features:\n",
        "    X['closest_city'] = X[['latitude', 'longitude']].apply(get_closest_city_name, axis=1)\n",
        "    X['closest_city_distance'] = X[['latitude', 'longitude']].apply(get_closest_city_distance, axis=1)\n",
        "    X['years'] = X['year_recorded'] - X['construction_year']\n",
        "\n",
        "    # drop some stuff\n",
        "    X = X.drop(columns='year_recorded')\n",
        "    X = X.drop(columns='month_recorded')\n",
        "    X = X.drop(columns='day_recorded')\n",
        "\n",
        "    # return the wrangled dataframe\n",
        "    return X\n",
        "\n",
        "\n",
        "train = wrangle(train)\n",
        "val = wrangle(val)\n",
        "test = wrangle(test)"
      ],
      "execution_count": 0,
      "outputs": []
    },
    {
      "cell_type": "code",
      "metadata": {
        "id": "Tw_CgiHlQz_G",
        "colab_type": "code",
        "colab": {
          "base_uri": "https://localhost:8080/",
          "height": 400
        },
        "outputId": "9444e1a1-039c-47e7-eef1-1667bb684fd9"
      },
      "source": [
        "train.head()"
      ],
      "execution_count": 6,
      "outputs": [
        {
          "output_type": "execute_result",
          "data": {
            "text/html": [
              "<div>\n",
              "<style scoped>\n",
              "    .dataframe tbody tr th:only-of-type {\n",
              "        vertical-align: middle;\n",
              "    }\n",
              "\n",
              "    .dataframe tbody tr th {\n",
              "        vertical-align: top;\n",
              "    }\n",
              "\n",
              "    .dataframe thead th {\n",
              "        text-align: right;\n",
              "    }\n",
              "</style>\n",
              "<table border=\"1\" class=\"dataframe\">\n",
              "  <thead>\n",
              "    <tr style=\"text-align: right;\">\n",
              "      <th></th>\n",
              "      <th>id</th>\n",
              "      <th>amount_tsh</th>\n",
              "      <th>funder</th>\n",
              "      <th>gps_height</th>\n",
              "      <th>installer</th>\n",
              "      <th>longitude</th>\n",
              "      <th>latitude</th>\n",
              "      <th>wpt_name</th>\n",
              "      <th>num_private</th>\n",
              "      <th>basin</th>\n",
              "      <th>subvillage</th>\n",
              "      <th>region</th>\n",
              "      <th>region_code</th>\n",
              "      <th>district_code</th>\n",
              "      <th>lga</th>\n",
              "      <th>ward</th>\n",
              "      <th>population</th>\n",
              "      <th>public_meeting</th>\n",
              "      <th>recorded_by</th>\n",
              "      <th>scheme_management</th>\n",
              "      <th>scheme_name</th>\n",
              "      <th>permit</th>\n",
              "      <th>construction_year</th>\n",
              "      <th>extraction_type</th>\n",
              "      <th>extraction_type_group</th>\n",
              "      <th>extraction_type_class</th>\n",
              "      <th>management</th>\n",
              "      <th>management_group</th>\n",
              "      <th>payment</th>\n",
              "      <th>water_quality</th>\n",
              "      <th>quality_group</th>\n",
              "      <th>quantity</th>\n",
              "      <th>source</th>\n",
              "      <th>source_type</th>\n",
              "      <th>source_class</th>\n",
              "      <th>waterpoint_type</th>\n",
              "      <th>waterpoint_type_group</th>\n",
              "      <th>status_group</th>\n",
              "      <th>closest_city</th>\n",
              "      <th>closest_city_distance</th>\n",
              "      <th>years</th>\n",
              "    </tr>\n",
              "  </thead>\n",
              "  <tbody>\n",
              "    <tr>\n",
              "      <th>43360</th>\n",
              "      <td>72938</td>\n",
              "      <td>0.0</td>\n",
              "      <td>OTHER</td>\n",
              "      <td>0</td>\n",
              "      <td>OTHER</td>\n",
              "      <td>33.542898</td>\n",
              "      <td>-9.174777</td>\n",
              "      <td>Kwa Mzee Noa</td>\n",
              "      <td>0</td>\n",
              "      <td>Lake Nyasa</td>\n",
              "      <td>Mpandapanda</td>\n",
              "      <td>Mbeya</td>\n",
              "      <td>12</td>\n",
              "      <td>4</td>\n",
              "      <td>Rungwe</td>\n",
              "      <td>Kiwira</td>\n",
              "      <td>0</td>\n",
              "      <td>True</td>\n",
              "      <td>GeoData Consultants Ltd</td>\n",
              "      <td>VWC</td>\n",
              "      <td>K</td>\n",
              "      <td>NaN</td>\n",
              "      <td>NaN</td>\n",
              "      <td>gravity</td>\n",
              "      <td>gravity</td>\n",
              "      <td>gravity</td>\n",
              "      <td>vwc</td>\n",
              "      <td>user-group</td>\n",
              "      <td>never pay</td>\n",
              "      <td>soft</td>\n",
              "      <td>good</td>\n",
              "      <td>insufficient</td>\n",
              "      <td>spring</td>\n",
              "      <td>spring</td>\n",
              "      <td>groundwater</td>\n",
              "      <td>communal standpipe</td>\n",
              "      <td>communal standpipe</td>\n",
              "      <td>functional</td>\n",
              "      <td>Mbeya</td>\n",
              "      <td>32.222060</td>\n",
              "      <td>NaN</td>\n",
              "    </tr>\n",
              "    <tr>\n",
              "      <th>7263</th>\n",
              "      <td>65358</td>\n",
              "      <td>500.0</td>\n",
              "      <td>OTHER</td>\n",
              "      <td>2049</td>\n",
              "      <td>OTHER</td>\n",
              "      <td>34.665760</td>\n",
              "      <td>-9.308548</td>\n",
              "      <td>Kwa Yasinta Ng'Ande</td>\n",
              "      <td>0</td>\n",
              "      <td>Rufiji</td>\n",
              "      <td>Kitichi</td>\n",
              "      <td>Iringa</td>\n",
              "      <td>11</td>\n",
              "      <td>4</td>\n",
              "      <td>Njombe</td>\n",
              "      <td>Imalinyi</td>\n",
              "      <td>175</td>\n",
              "      <td>True</td>\n",
              "      <td>GeoData Consultants Ltd</td>\n",
              "      <td>WUA</td>\n",
              "      <td>Tove Mtwango gravity Scheme</td>\n",
              "      <td>True</td>\n",
              "      <td>2008.0</td>\n",
              "      <td>gravity</td>\n",
              "      <td>gravity</td>\n",
              "      <td>gravity</td>\n",
              "      <td>wua</td>\n",
              "      <td>user-group</td>\n",
              "      <td>pay monthly</td>\n",
              "      <td>soft</td>\n",
              "      <td>good</td>\n",
              "      <td>enough</td>\n",
              "      <td>spring</td>\n",
              "      <td>spring</td>\n",
              "      <td>groundwater</td>\n",
              "      <td>communal standpipe</td>\n",
              "      <td>communal standpipe</td>\n",
              "      <td>functional</td>\n",
              "      <td>Njombe</td>\n",
              "      <td>11.413647</td>\n",
              "      <td>3.0</td>\n",
              "    </tr>\n",
              "    <tr>\n",
              "      <th>2486</th>\n",
              "      <td>469</td>\n",
              "      <td>25.0</td>\n",
              "      <td>OTHER</td>\n",
              "      <td>290</td>\n",
              "      <td>OTHER</td>\n",
              "      <td>38.238568</td>\n",
              "      <td>-6.179919</td>\n",
              "      <td>Kwasungwini</td>\n",
              "      <td>0</td>\n",
              "      <td>Wami / Ruvu</td>\n",
              "      <td>Kwedigongo</td>\n",
              "      <td>Pwani</td>\n",
              "      <td>6</td>\n",
              "      <td>1</td>\n",
              "      <td>Bagamoyo</td>\n",
              "      <td>Mbwewe</td>\n",
              "      <td>2300</td>\n",
              "      <td>True</td>\n",
              "      <td>GeoData Consultants Ltd</td>\n",
              "      <td>VWC</td>\n",
              "      <td>NaN</td>\n",
              "      <td>False</td>\n",
              "      <td>2010.0</td>\n",
              "      <td>india mark ii</td>\n",
              "      <td>india mark ii</td>\n",
              "      <td>handpump</td>\n",
              "      <td>vwc</td>\n",
              "      <td>user-group</td>\n",
              "      <td>pay per bucket</td>\n",
              "      <td>salty</td>\n",
              "      <td>salty</td>\n",
              "      <td>insufficient</td>\n",
              "      <td>shallow well</td>\n",
              "      <td>shallow well</td>\n",
              "      <td>groundwater</td>\n",
              "      <td>hand pump</td>\n",
              "      <td>hand pump</td>\n",
              "      <td>functional</td>\n",
              "      <td>Morogoro</td>\n",
              "      <td>95.793599</td>\n",
              "      <td>1.0</td>\n",
              "    </tr>\n",
              "    <tr>\n",
              "      <th>313</th>\n",
              "      <td>1298</td>\n",
              "      <td>0.0</td>\n",
              "      <td>Government Of Tanzania</td>\n",
              "      <td>0</td>\n",
              "      <td>DWE</td>\n",
              "      <td>30.716727</td>\n",
              "      <td>-1.289055</td>\n",
              "      <td>Kwajovin 2</td>\n",
              "      <td>0</td>\n",
              "      <td>Lake Victoria</td>\n",
              "      <td>Kihanga</td>\n",
              "      <td>Kagera</td>\n",
              "      <td>18</td>\n",
              "      <td>1</td>\n",
              "      <td>Karagwe</td>\n",
              "      <td>Isingiro</td>\n",
              "      <td>0</td>\n",
              "      <td>True</td>\n",
              "      <td>GeoData Consultants Ltd</td>\n",
              "      <td>NaN</td>\n",
              "      <td>NaN</td>\n",
              "      <td>True</td>\n",
              "      <td>NaN</td>\n",
              "      <td>other</td>\n",
              "      <td>other</td>\n",
              "      <td>other</td>\n",
              "      <td>vwc</td>\n",
              "      <td>user-group</td>\n",
              "      <td>never pay</td>\n",
              "      <td>soft</td>\n",
              "      <td>good</td>\n",
              "      <td>enough</td>\n",
              "      <td>shallow well</td>\n",
              "      <td>shallow well</td>\n",
              "      <td>groundwater</td>\n",
              "      <td>other</td>\n",
              "      <td>other</td>\n",
              "      <td>non functional</td>\n",
              "      <td>Mwanza</td>\n",
              "      <td>278.480769</td>\n",
              "      <td>NaN</td>\n",
              "    </tr>\n",
              "    <tr>\n",
              "      <th>52726</th>\n",
              "      <td>27001</td>\n",
              "      <td>0.0</td>\n",
              "      <td>OTHER</td>\n",
              "      <td>0</td>\n",
              "      <td>OTHER</td>\n",
              "      <td>35.389331</td>\n",
              "      <td>-6.399942</td>\n",
              "      <td>Chama</td>\n",
              "      <td>0</td>\n",
              "      <td>Internal</td>\n",
              "      <td>Mtakuj</td>\n",
              "      <td>Dodoma</td>\n",
              "      <td>1</td>\n",
              "      <td>6</td>\n",
              "      <td>Bahi</td>\n",
              "      <td>Nondwa</td>\n",
              "      <td>0</td>\n",
              "      <td>True</td>\n",
              "      <td>GeoData Consultants Ltd</td>\n",
              "      <td>VWC</td>\n",
              "      <td>Zeje</td>\n",
              "      <td>True</td>\n",
              "      <td>NaN</td>\n",
              "      <td>mono</td>\n",
              "      <td>mono</td>\n",
              "      <td>motorpump</td>\n",
              "      <td>vwc</td>\n",
              "      <td>user-group</td>\n",
              "      <td>pay per bucket</td>\n",
              "      <td>soft</td>\n",
              "      <td>good</td>\n",
              "      <td>enough</td>\n",
              "      <td>machine dbh</td>\n",
              "      <td>borehole</td>\n",
              "      <td>groundwater</td>\n",
              "      <td>communal standpipe</td>\n",
              "      <td>communal standpipe</td>\n",
              "      <td>functional</td>\n",
              "      <td>Dodoma</td>\n",
              "      <td>46.440557</td>\n",
              "      <td>NaN</td>\n",
              "    </tr>\n",
              "  </tbody>\n",
              "</table>\n",
              "</div>"
            ],
            "text/plain": [
              "          id  amount_tsh  ... closest_city_distance  years\n",
              "43360  72938         0.0  ...             32.222060    NaN\n",
              "7263   65358       500.0  ...             11.413647    3.0\n",
              "2486     469        25.0  ...             95.793599    1.0\n",
              "313     1298         0.0  ...            278.480769    NaN\n",
              "52726  27001         0.0  ...             46.440557    NaN\n",
              "\n",
              "[5 rows x 41 columns]"
            ]
          },
          "metadata": {
            "tags": []
          },
          "execution_count": 6
        }
      ]
    },
    {
      "cell_type": "code",
      "metadata": {
        "id": "mqPktFWdQ2UQ",
        "colab_type": "code",
        "colab": {
          "base_uri": "https://localhost:8080/",
          "height": 34
        },
        "outputId": "026199b1-b0f5-445a-f15d-3890c568b4ce"
      },
      "source": [
        "# The status_group column is the target\n",
        "target = 'status_group'\n",
        "\n",
        "# Stuff I don't think is gonna be useful:\n",
        "not_useful = ['num_private', 'construction_year', 'gps_height', 'amount_tsh',\n",
        "              'scheme_name', 'recorded_by']\n",
        "\n",
        "# Get a dataframe with all train columns except the target & id\n",
        "train_features = train.drop(columns=[target, 'id'] + not_useful)\n",
        "\n",
        "# Get a list of the numeric features\n",
        "numeric_features = train_features.select_dtypes(include='number').columns.tolist()\n",
        "\n",
        "# Get a series with the cardinality of the nonnumeric features\n",
        "cardinality = train_features.select_dtypes(exclude='number').nunique()\n",
        "\n",
        "# Get a list of all categorical features with cardinality <= 50\n",
        "categorical_features = cardinality[cardinality <= 100].index.tolist()\n",
        "\n",
        "# Combine the lists \n",
        "features = numeric_features + categorical_features\n",
        "\n",
        "print(len(features), \"features selected\")"
      ],
      "execution_count": 7,
      "outputs": [
        {
          "output_type": "stream",
          "text": [
            "29 features selected\n"
          ],
          "name": "stdout"
        }
      ]
    },
    {
      "cell_type": "code",
      "metadata": {
        "id": "hrZ4X_-wQ85O",
        "colab_type": "code",
        "colab": {
          "base_uri": "https://localhost:8080/",
          "height": 1000
        },
        "outputId": "1aec476f-312c-43f5-d4fe-6af7fb9c1c12"
      },
      "source": [
        "import category_encoders as ce\n",
        "from sklearn.impute import SimpleImputer\n",
        "from sklearn.pipeline import make_pipeline\n",
        "from sklearn.ensemble import RandomForestClassifier\n",
        "from sklearn.model_selection import RandomizedSearchCV\n",
        "from scipy.stats import randint, uniform\n",
        "\n",
        "X_train = train[features]\n",
        "y_train = train[target]\n",
        "X_val = val[features]\n",
        "y_val = val[target]\n",
        "\n",
        "pipeline = make_pipeline(\n",
        "    ce.OrdinalEncoder(), \n",
        "    SimpleImputer(),\n",
        "    RandomForestClassifier(random_state=0)\n",
        "    )\n",
        "\n",
        "param_distributions = {\n",
        "    'simpleimputer__strategy': ['mean', 'median'], \n",
        "    # 'randomforestclassifier__random_state' = [0, 5, 10, 15, 20],\n",
        "    'randomforestclassifier__n_estimators': [50, 100, 300, 500], \n",
        "    'randomforestclassifier__max_depth': [5, 10, 15, 20, 25, None], \n",
        "    'randomforestclassifier__max_features': uniform(0, 1),\n",
        "    'randomforestclassifier__min_samples_split': [2, 3, 4, 5]\n",
        "}\n",
        "\n",
        "search = RandomizedSearchCV(\n",
        "    pipeline, \n",
        "    param_distributions=param_distributions, \n",
        "    n_iter=10, \n",
        "    cv=5, \n",
        "    scoring='accuracy', \n",
        "    verbose=10, \n",
        "    return_train_score=True, \n",
        "    n_jobs=-2\n",
        ")\n",
        "\n",
        "search.fit(X_train, y_train)\n",
        "\n",
        "pipeline = search.best_estimator_\n",
        "print(pipeline.score(X_val, y_val))\n",
        "\n",
        "# Wake me up when it's done... zzz...\n",
        "from google.colab import output\n",
        "output.eval_js('new Audio(\"https://vignette.wikia.nocookie.net/finalfantasy/images/d/db/FFXV_Victory_Fanfare.ogg\").play()')"
      ],
      "execution_count": 10,
      "outputs": [
        {
          "output_type": "stream",
          "text": [
            "Fitting 5 folds for each of 10 candidates, totalling 50 fits\n",
            "[CV] randomforestclassifier__max_depth=None, randomforestclassifier__max_features=0.13364341595384888, randomforestclassifier__min_samples_split=5, randomforestclassifier__n_estimators=500, simpleimputer__strategy=median \n"
          ],
          "name": "stdout"
        },
        {
          "output_type": "stream",
          "text": [
            "[Parallel(n_jobs=-2)]: Using backend SequentialBackend with 1 concurrent workers.\n"
          ],
          "name": "stderr"
        },
        {
          "output_type": "stream",
          "text": [
            "[CV]  randomforestclassifier__max_depth=None, randomforestclassifier__max_features=0.13364341595384888, randomforestclassifier__min_samples_split=5, randomforestclassifier__n_estimators=500, simpleimputer__strategy=median, score=(train=0.954, test=0.808), total=  26.2s\n",
            "[CV] randomforestclassifier__max_depth=None, randomforestclassifier__max_features=0.13364341595384888, randomforestclassifier__min_samples_split=5, randomforestclassifier__n_estimators=500, simpleimputer__strategy=median \n"
          ],
          "name": "stdout"
        },
        {
          "output_type": "stream",
          "text": [
            "[Parallel(n_jobs=-2)]: Done   1 out of   1 | elapsed:   31.5s remaining:    0.0s\n"
          ],
          "name": "stderr"
        },
        {
          "output_type": "stream",
          "text": [
            "[CV]  randomforestclassifier__max_depth=None, randomforestclassifier__max_features=0.13364341595384888, randomforestclassifier__min_samples_split=5, randomforestclassifier__n_estimators=500, simpleimputer__strategy=median, score=(train=0.954, test=0.803), total=  25.8s\n"
          ],
          "name": "stdout"
        },
        {
          "output_type": "stream",
          "text": [
            "[Parallel(n_jobs=-2)]: Done   2 out of   2 | elapsed:  1.0min remaining:    0.0s\n"
          ],
          "name": "stderr"
        },
        {
          "output_type": "stream",
          "text": [
            "[CV] randomforestclassifier__max_depth=None, randomforestclassifier__max_features=0.13364341595384888, randomforestclassifier__min_samples_split=5, randomforestclassifier__n_estimators=500, simpleimputer__strategy=median \n",
            "[CV]  randomforestclassifier__max_depth=None, randomforestclassifier__max_features=0.13364341595384888, randomforestclassifier__min_samples_split=5, randomforestclassifier__n_estimators=500, simpleimputer__strategy=median, score=(train=0.954, test=0.811), total=  26.1s\n"
          ],
          "name": "stdout"
        },
        {
          "output_type": "stream",
          "text": [
            "[Parallel(n_jobs=-2)]: Done   3 out of   3 | elapsed:  1.6min remaining:    0.0s\n"
          ],
          "name": "stderr"
        },
        {
          "output_type": "stream",
          "text": [
            "[CV] randomforestclassifier__max_depth=None, randomforestclassifier__max_features=0.13364341595384888, randomforestclassifier__min_samples_split=5, randomforestclassifier__n_estimators=500, simpleimputer__strategy=median \n",
            "[CV]  randomforestclassifier__max_depth=None, randomforestclassifier__max_features=0.13364341595384888, randomforestclassifier__min_samples_split=5, randomforestclassifier__n_estimators=500, simpleimputer__strategy=median, score=(train=0.953, test=0.806), total=  26.0s\n"
          ],
          "name": "stdout"
        },
        {
          "output_type": "stream",
          "text": [
            "[Parallel(n_jobs=-2)]: Done   4 out of   4 | elapsed:  2.1min remaining:    0.0s\n"
          ],
          "name": "stderr"
        },
        {
          "output_type": "stream",
          "text": [
            "[CV] randomforestclassifier__max_depth=None, randomforestclassifier__max_features=0.13364341595384888, randomforestclassifier__min_samples_split=5, randomforestclassifier__n_estimators=500, simpleimputer__strategy=median \n",
            "[CV]  randomforestclassifier__max_depth=None, randomforestclassifier__max_features=0.13364341595384888, randomforestclassifier__min_samples_split=5, randomforestclassifier__n_estimators=500, simpleimputer__strategy=median, score=(train=0.954, test=0.803), total=  26.3s\n"
          ],
          "name": "stdout"
        },
        {
          "output_type": "stream",
          "text": [
            "[Parallel(n_jobs=-2)]: Done   5 out of   5 | elapsed:  2.6min remaining:    0.0s\n"
          ],
          "name": "stderr"
        },
        {
          "output_type": "stream",
          "text": [
            "[CV] randomforestclassifier__max_depth=5, randomforestclassifier__max_features=0.0552032012184559, randomforestclassifier__min_samples_split=2, randomforestclassifier__n_estimators=500, simpleimputer__strategy=mean \n",
            "[CV]  randomforestclassifier__max_depth=5, randomforestclassifier__max_features=0.0552032012184559, randomforestclassifier__min_samples_split=2, randomforestclassifier__n_estimators=500, simpleimputer__strategy=mean, score=(train=0.684, test=0.687), total=   6.2s\n",
            "[CV] randomforestclassifier__max_depth=5, randomforestclassifier__max_features=0.0552032012184559, randomforestclassifier__min_samples_split=2, randomforestclassifier__n_estimators=500, simpleimputer__strategy=mean \n"
          ],
          "name": "stdout"
        },
        {
          "output_type": "stream",
          "text": [
            "[Parallel(n_jobs=-2)]: Done   6 out of   6 | elapsed:  2.8min remaining:    0.0s\n"
          ],
          "name": "stderr"
        },
        {
          "output_type": "stream",
          "text": [
            "[CV]  randomforestclassifier__max_depth=5, randomforestclassifier__max_features=0.0552032012184559, randomforestclassifier__min_samples_split=2, randomforestclassifier__n_estimators=500, simpleimputer__strategy=mean, score=(train=0.680, test=0.676), total=   6.4s\n",
            "[CV] randomforestclassifier__max_depth=5, randomforestclassifier__max_features=0.0552032012184559, randomforestclassifier__min_samples_split=2, randomforestclassifier__n_estimators=500, simpleimputer__strategy=mean \n"
          ],
          "name": "stdout"
        },
        {
          "output_type": "stream",
          "text": [
            "[Parallel(n_jobs=-2)]: Done   7 out of   7 | elapsed:  2.9min remaining:    0.0s\n"
          ],
          "name": "stderr"
        },
        {
          "output_type": "stream",
          "text": [
            "[CV]  randomforestclassifier__max_depth=5, randomforestclassifier__max_features=0.0552032012184559, randomforestclassifier__min_samples_split=2, randomforestclassifier__n_estimators=500, simpleimputer__strategy=mean, score=(train=0.677, test=0.682), total=   6.4s\n",
            "[CV] randomforestclassifier__max_depth=5, randomforestclassifier__max_features=0.0552032012184559, randomforestclassifier__min_samples_split=2, randomforestclassifier__n_estimators=500, simpleimputer__strategy=mean \n"
          ],
          "name": "stdout"
        },
        {
          "output_type": "stream",
          "text": [
            "[Parallel(n_jobs=-2)]: Done   8 out of   8 | elapsed:  3.0min remaining:    0.0s\n"
          ],
          "name": "stderr"
        },
        {
          "output_type": "stream",
          "text": [
            "[CV]  randomforestclassifier__max_depth=5, randomforestclassifier__max_features=0.0552032012184559, randomforestclassifier__min_samples_split=2, randomforestclassifier__n_estimators=500, simpleimputer__strategy=mean, score=(train=0.681, test=0.680), total=   6.3s\n",
            "[CV] randomforestclassifier__max_depth=5, randomforestclassifier__max_features=0.0552032012184559, randomforestclassifier__min_samples_split=2, randomforestclassifier__n_estimators=500, simpleimputer__strategy=mean \n"
          ],
          "name": "stdout"
        },
        {
          "output_type": "stream",
          "text": [
            "[Parallel(n_jobs=-2)]: Done   9 out of   9 | elapsed:  3.2min remaining:    0.0s\n"
          ],
          "name": "stderr"
        },
        {
          "output_type": "stream",
          "text": [
            "[CV]  randomforestclassifier__max_depth=5, randomforestclassifier__max_features=0.0552032012184559, randomforestclassifier__min_samples_split=2, randomforestclassifier__n_estimators=500, simpleimputer__strategy=mean, score=(train=0.682, test=0.676), total=   6.4s\n",
            "[CV] randomforestclassifier__max_depth=None, randomforestclassifier__max_features=0.13331314566551544, randomforestclassifier__min_samples_split=4, randomforestclassifier__n_estimators=100, simpleimputer__strategy=mean \n",
            "[CV]  randomforestclassifier__max_depth=None, randomforestclassifier__max_features=0.13331314566551544, randomforestclassifier__min_samples_split=4, randomforestclassifier__n_estimators=100, simpleimputer__strategy=mean, score=(train=0.970, test=0.805), total=   6.0s\n",
            "[CV] randomforestclassifier__max_depth=None, randomforestclassifier__max_features=0.13331314566551544, randomforestclassifier__min_samples_split=4, randomforestclassifier__n_estimators=100, simpleimputer__strategy=mean \n",
            "[CV]  randomforestclassifier__max_depth=None, randomforestclassifier__max_features=0.13331314566551544, randomforestclassifier__min_samples_split=4, randomforestclassifier__n_estimators=100, simpleimputer__strategy=mean, score=(train=0.971, test=0.803), total=   5.8s\n",
            "[CV] randomforestclassifier__max_depth=None, randomforestclassifier__max_features=0.13331314566551544, randomforestclassifier__min_samples_split=4, randomforestclassifier__n_estimators=100, simpleimputer__strategy=mean \n",
            "[CV]  randomforestclassifier__max_depth=None, randomforestclassifier__max_features=0.13331314566551544, randomforestclassifier__min_samples_split=4, randomforestclassifier__n_estimators=100, simpleimputer__strategy=mean, score=(train=0.970, test=0.807), total=   5.7s\n",
            "[CV] randomforestclassifier__max_depth=None, randomforestclassifier__max_features=0.13331314566551544, randomforestclassifier__min_samples_split=4, randomforestclassifier__n_estimators=100, simpleimputer__strategy=mean \n",
            "[CV]  randomforestclassifier__max_depth=None, randomforestclassifier__max_features=0.13331314566551544, randomforestclassifier__min_samples_split=4, randomforestclassifier__n_estimators=100, simpleimputer__strategy=mean, score=(train=0.970, test=0.806), total=   5.7s\n",
            "[CV] randomforestclassifier__max_depth=None, randomforestclassifier__max_features=0.13331314566551544, randomforestclassifier__min_samples_split=4, randomforestclassifier__n_estimators=100, simpleimputer__strategy=mean \n",
            "[CV]  randomforestclassifier__max_depth=None, randomforestclassifier__max_features=0.13331314566551544, randomforestclassifier__min_samples_split=4, randomforestclassifier__n_estimators=100, simpleimputer__strategy=mean, score=(train=0.971, test=0.804), total=   5.8s\n",
            "[CV] randomforestclassifier__max_depth=15, randomforestclassifier__max_features=0.04760276974812461, randomforestclassifier__min_samples_split=5, randomforestclassifier__n_estimators=300, simpleimputer__strategy=mean \n",
            "[CV]  randomforestclassifier__max_depth=15, randomforestclassifier__max_features=0.04760276974812461, randomforestclassifier__min_samples_split=5, randomforestclassifier__n_estimators=300, simpleimputer__strategy=mean, score=(train=0.825, test=0.786), total=   7.9s\n",
            "[CV] randomforestclassifier__max_depth=15, randomforestclassifier__max_features=0.04760276974812461, randomforestclassifier__min_samples_split=5, randomforestclassifier__n_estimators=300, simpleimputer__strategy=mean \n",
            "[CV]  randomforestclassifier__max_depth=15, randomforestclassifier__max_features=0.04760276974812461, randomforestclassifier__min_samples_split=5, randomforestclassifier__n_estimators=300, simpleimputer__strategy=mean, score=(train=0.836, test=0.776), total=   7.6s\n",
            "[CV] randomforestclassifier__max_depth=15, randomforestclassifier__max_features=0.04760276974812461, randomforestclassifier__min_samples_split=5, randomforestclassifier__n_estimators=300, simpleimputer__strategy=mean \n",
            "[CV]  randomforestclassifier__max_depth=15, randomforestclassifier__max_features=0.04760276974812461, randomforestclassifier__min_samples_split=5, randomforestclassifier__n_estimators=300, simpleimputer__strategy=mean, score=(train=0.833, test=0.789), total=   7.5s\n",
            "[CV] randomforestclassifier__max_depth=15, randomforestclassifier__max_features=0.04760276974812461, randomforestclassifier__min_samples_split=5, randomforestclassifier__n_estimators=300, simpleimputer__strategy=mean \n",
            "[CV]  randomforestclassifier__max_depth=15, randomforestclassifier__max_features=0.04760276974812461, randomforestclassifier__min_samples_split=5, randomforestclassifier__n_estimators=300, simpleimputer__strategy=mean, score=(train=0.835, test=0.779), total=   7.3s\n",
            "[CV] randomforestclassifier__max_depth=15, randomforestclassifier__max_features=0.04760276974812461, randomforestclassifier__min_samples_split=5, randomforestclassifier__n_estimators=300, simpleimputer__strategy=mean \n",
            "[CV]  randomforestclassifier__max_depth=15, randomforestclassifier__max_features=0.04760276974812461, randomforestclassifier__min_samples_split=5, randomforestclassifier__n_estimators=300, simpleimputer__strategy=mean, score=(train=0.837, test=0.789), total=   7.3s\n",
            "[CV] randomforestclassifier__max_depth=25, randomforestclassifier__max_features=0.8153875879718891, randomforestclassifier__min_samples_split=3, randomforestclassifier__n_estimators=300, simpleimputer__strategy=median \n",
            "[CV]  randomforestclassifier__max_depth=25, randomforestclassifier__max_features=0.8153875879718891, randomforestclassifier__min_samples_split=3, randomforestclassifier__n_estimators=300, simpleimputer__strategy=median, score=(train=0.986, test=0.801), total= 1.3min\n",
            "[CV] randomforestclassifier__max_depth=25, randomforestclassifier__max_features=0.8153875879718891, randomforestclassifier__min_samples_split=3, randomforestclassifier__n_estimators=300, simpleimputer__strategy=median \n",
            "[CV]  randomforestclassifier__max_depth=25, randomforestclassifier__max_features=0.8153875879718891, randomforestclassifier__min_samples_split=3, randomforestclassifier__n_estimators=300, simpleimputer__strategy=median, score=(train=0.993, test=0.796), total= 1.2min\n",
            "[CV] randomforestclassifier__max_depth=25, randomforestclassifier__max_features=0.8153875879718891, randomforestclassifier__min_samples_split=3, randomforestclassifier__n_estimators=300, simpleimputer__strategy=median \n",
            "[CV]  randomforestclassifier__max_depth=25, randomforestclassifier__max_features=0.8153875879718891, randomforestclassifier__min_samples_split=3, randomforestclassifier__n_estimators=300, simpleimputer__strategy=median, score=(train=0.994, test=0.802), total= 1.2min\n",
            "[CV] randomforestclassifier__max_depth=25, randomforestclassifier__max_features=0.8153875879718891, randomforestclassifier__min_samples_split=3, randomforestclassifier__n_estimators=300, simpleimputer__strategy=median \n",
            "[CV]  randomforestclassifier__max_depth=25, randomforestclassifier__max_features=0.8153875879718891, randomforestclassifier__min_samples_split=3, randomforestclassifier__n_estimators=300, simpleimputer__strategy=median, score=(train=0.993, test=0.800), total= 1.2min\n",
            "[CV] randomforestclassifier__max_depth=25, randomforestclassifier__max_features=0.8153875879718891, randomforestclassifier__min_samples_split=3, randomforestclassifier__n_estimators=300, simpleimputer__strategy=median \n",
            "[CV]  randomforestclassifier__max_depth=25, randomforestclassifier__max_features=0.8153875879718891, randomforestclassifier__min_samples_split=3, randomforestclassifier__n_estimators=300, simpleimputer__strategy=median, score=(train=0.993, test=0.798), total= 1.2min\n",
            "[CV] randomforestclassifier__max_depth=5, randomforestclassifier__max_features=0.4130032786383052, randomforestclassifier__min_samples_split=2, randomforestclassifier__n_estimators=500, simpleimputer__strategy=mean \n",
            "[CV]  randomforestclassifier__max_depth=5, randomforestclassifier__max_features=0.4130032786383052, randomforestclassifier__min_samples_split=2, randomforestclassifier__n_estimators=500, simpleimputer__strategy=mean, score=(train=0.718, test=0.723), total=  23.5s\n",
            "[CV] randomforestclassifier__max_depth=5, randomforestclassifier__max_features=0.4130032786383052, randomforestclassifier__min_samples_split=2, randomforestclassifier__n_estimators=500, simpleimputer__strategy=mean \n",
            "[CV]  randomforestclassifier__max_depth=5, randomforestclassifier__max_features=0.4130032786383052, randomforestclassifier__min_samples_split=2, randomforestclassifier__n_estimators=500, simpleimputer__strategy=mean, score=(train=0.730, test=0.726), total=  23.6s\n",
            "[CV] randomforestclassifier__max_depth=5, randomforestclassifier__max_features=0.4130032786383052, randomforestclassifier__min_samples_split=2, randomforestclassifier__n_estimators=500, simpleimputer__strategy=mean \n",
            "[CV]  randomforestclassifier__max_depth=5, randomforestclassifier__max_features=0.4130032786383052, randomforestclassifier__min_samples_split=2, randomforestclassifier__n_estimators=500, simpleimputer__strategy=mean, score=(train=0.727, test=0.730), total=  23.4s\n",
            "[CV] randomforestclassifier__max_depth=5, randomforestclassifier__max_features=0.4130032786383052, randomforestclassifier__min_samples_split=2, randomforestclassifier__n_estimators=500, simpleimputer__strategy=mean \n",
            "[CV]  randomforestclassifier__max_depth=5, randomforestclassifier__max_features=0.4130032786383052, randomforestclassifier__min_samples_split=2, randomforestclassifier__n_estimators=500, simpleimputer__strategy=mean, score=(train=0.729, test=0.726), total=  23.4s\n",
            "[CV] randomforestclassifier__max_depth=5, randomforestclassifier__max_features=0.4130032786383052, randomforestclassifier__min_samples_split=2, randomforestclassifier__n_estimators=500, simpleimputer__strategy=mean \n",
            "[CV]  randomforestclassifier__max_depth=5, randomforestclassifier__max_features=0.4130032786383052, randomforestclassifier__min_samples_split=2, randomforestclassifier__n_estimators=500, simpleimputer__strategy=mean, score=(train=0.730, test=0.721), total=  24.0s\n",
            "[CV] randomforestclassifier__max_depth=15, randomforestclassifier__max_features=0.3007511583573651, randomforestclassifier__min_samples_split=3, randomforestclassifier__n_estimators=500, simpleimputer__strategy=median \n",
            "[CV]  randomforestclassifier__max_depth=15, randomforestclassifier__max_features=0.3007511583573651, randomforestclassifier__min_samples_split=3, randomforestclassifier__n_estimators=500, simpleimputer__strategy=median, score=(train=0.862, test=0.798), total=  41.7s\n",
            "[CV] randomforestclassifier__max_depth=15, randomforestclassifier__max_features=0.3007511583573651, randomforestclassifier__min_samples_split=3, randomforestclassifier__n_estimators=500, simpleimputer__strategy=median \n",
            "[CV]  randomforestclassifier__max_depth=15, randomforestclassifier__max_features=0.3007511583573651, randomforestclassifier__min_samples_split=3, randomforestclassifier__n_estimators=500, simpleimputer__strategy=median, score=(train=0.886, test=0.799), total=  41.7s\n",
            "[CV] randomforestclassifier__max_depth=15, randomforestclassifier__max_features=0.3007511583573651, randomforestclassifier__min_samples_split=3, randomforestclassifier__n_estimators=500, simpleimputer__strategy=median \n",
            "[CV]  randomforestclassifier__max_depth=15, randomforestclassifier__max_features=0.3007511583573651, randomforestclassifier__min_samples_split=3, randomforestclassifier__n_estimators=500, simpleimputer__strategy=median, score=(train=0.885, test=0.807), total=  40.8s\n",
            "[CV] randomforestclassifier__max_depth=15, randomforestclassifier__max_features=0.3007511583573651, randomforestclassifier__min_samples_split=3, randomforestclassifier__n_estimators=500, simpleimputer__strategy=median \n",
            "[CV]  randomforestclassifier__max_depth=15, randomforestclassifier__max_features=0.3007511583573651, randomforestclassifier__min_samples_split=3, randomforestclassifier__n_estimators=500, simpleimputer__strategy=median, score=(train=0.884, test=0.804), total=  41.1s\n",
            "[CV] randomforestclassifier__max_depth=15, randomforestclassifier__max_features=0.3007511583573651, randomforestclassifier__min_samples_split=3, randomforestclassifier__n_estimators=500, simpleimputer__strategy=median \n",
            "[CV]  randomforestclassifier__max_depth=15, randomforestclassifier__max_features=0.3007511583573651, randomforestclassifier__min_samples_split=3, randomforestclassifier__n_estimators=500, simpleimputer__strategy=median, score=(train=0.885, test=0.804), total=  40.7s\n",
            "[CV] randomforestclassifier__max_depth=10, randomforestclassifier__max_features=0.8490687960085518, randomforestclassifier__min_samples_split=4, randomforestclassifier__n_estimators=300, simpleimputer__strategy=median \n",
            "[CV]  randomforestclassifier__max_depth=10, randomforestclassifier__max_features=0.8490687960085518, randomforestclassifier__min_samples_split=4, randomforestclassifier__n_estimators=300, simpleimputer__strategy=median, score=(train=0.776, test=0.760), total=  49.9s\n",
            "[CV] randomforestclassifier__max_depth=10, randomforestclassifier__max_features=0.8490687960085518, randomforestclassifier__min_samples_split=4, randomforestclassifier__n_estimators=300, simpleimputer__strategy=median \n",
            "[CV]  randomforestclassifier__max_depth=10, randomforestclassifier__max_features=0.8490687960085518, randomforestclassifier__min_samples_split=4, randomforestclassifier__n_estimators=300, simpleimputer__strategy=median, score=(train=0.804, test=0.771), total=  49.4s\n",
            "[CV] randomforestclassifier__max_depth=10, randomforestclassifier__max_features=0.8490687960085518, randomforestclassifier__min_samples_split=4, randomforestclassifier__n_estimators=300, simpleimputer__strategy=median \n",
            "[CV]  randomforestclassifier__max_depth=10, randomforestclassifier__max_features=0.8490687960085518, randomforestclassifier__min_samples_split=4, randomforestclassifier__n_estimators=300, simpleimputer__strategy=median, score=(train=0.801, test=0.777), total=  49.4s\n",
            "[CV] randomforestclassifier__max_depth=10, randomforestclassifier__max_features=0.8490687960085518, randomforestclassifier__min_samples_split=4, randomforestclassifier__n_estimators=300, simpleimputer__strategy=median \n",
            "[CV]  randomforestclassifier__max_depth=10, randomforestclassifier__max_features=0.8490687960085518, randomforestclassifier__min_samples_split=4, randomforestclassifier__n_estimators=300, simpleimputer__strategy=median, score=(train=0.801, test=0.774), total=  49.1s\n",
            "[CV] randomforestclassifier__max_depth=10, randomforestclassifier__max_features=0.8490687960085518, randomforestclassifier__min_samples_split=4, randomforestclassifier__n_estimators=300, simpleimputer__strategy=median \n",
            "[CV]  randomforestclassifier__max_depth=10, randomforestclassifier__max_features=0.8490687960085518, randomforestclassifier__min_samples_split=4, randomforestclassifier__n_estimators=300, simpleimputer__strategy=median, score=(train=0.803, test=0.771), total=  48.9s\n",
            "[CV] randomforestclassifier__max_depth=None, randomforestclassifier__max_features=0.22287828783931052, randomforestclassifier__min_samples_split=2, randomforestclassifier__n_estimators=500, simpleimputer__strategy=median \n",
            "[CV]  randomforestclassifier__max_depth=None, randomforestclassifier__max_features=0.22287828783931052, randomforestclassifier__min_samples_split=2, randomforestclassifier__n_estimators=500, simpleimputer__strategy=median, score=(train=0.997, test=0.800), total=  43.0s\n",
            "[CV] randomforestclassifier__max_depth=None, randomforestclassifier__max_features=0.22287828783931052, randomforestclassifier__min_samples_split=2, randomforestclassifier__n_estimators=500, simpleimputer__strategy=median \n",
            "[CV]  randomforestclassifier__max_depth=None, randomforestclassifier__max_features=0.22287828783931052, randomforestclassifier__min_samples_split=2, randomforestclassifier__n_estimators=500, simpleimputer__strategy=median, score=(train=0.997, test=0.798), total=  39.6s\n",
            "[CV] randomforestclassifier__max_depth=None, randomforestclassifier__max_features=0.22287828783931052, randomforestclassifier__min_samples_split=2, randomforestclassifier__n_estimators=500, simpleimputer__strategy=median \n",
            "[CV]  randomforestclassifier__max_depth=None, randomforestclassifier__max_features=0.22287828783931052, randomforestclassifier__min_samples_split=2, randomforestclassifier__n_estimators=500, simpleimputer__strategy=median, score=(train=0.997, test=0.803), total=  39.8s\n",
            "[CV] randomforestclassifier__max_depth=None, randomforestclassifier__max_features=0.22287828783931052, randomforestclassifier__min_samples_split=2, randomforestclassifier__n_estimators=500, simpleimputer__strategy=median \n",
            "[CV]  randomforestclassifier__max_depth=None, randomforestclassifier__max_features=0.22287828783931052, randomforestclassifier__min_samples_split=2, randomforestclassifier__n_estimators=500, simpleimputer__strategy=median, score=(train=0.997, test=0.801), total=  39.5s\n",
            "[CV] randomforestclassifier__max_depth=None, randomforestclassifier__max_features=0.22287828783931052, randomforestclassifier__min_samples_split=2, randomforestclassifier__n_estimators=500, simpleimputer__strategy=median \n",
            "[CV]  randomforestclassifier__max_depth=None, randomforestclassifier__max_features=0.22287828783931052, randomforestclassifier__min_samples_split=2, randomforestclassifier__n_estimators=500, simpleimputer__strategy=median, score=(train=0.997, test=0.800), total=  40.2s\n",
            "[CV] randomforestclassifier__max_depth=20, randomforestclassifier__max_features=0.8030074204346229, randomforestclassifier__min_samples_split=3, randomforestclassifier__n_estimators=50, simpleimputer__strategy=mean \n",
            "[CV]  randomforestclassifier__max_depth=20, randomforestclassifier__max_features=0.8030074204346229, randomforestclassifier__min_samples_split=3, randomforestclassifier__n_estimators=50, simpleimputer__strategy=mean, score=(train=0.946, test=0.804), total=  12.8s\n",
            "[CV] randomforestclassifier__max_depth=20, randomforestclassifier__max_features=0.8030074204346229, randomforestclassifier__min_samples_split=3, randomforestclassifier__n_estimators=50, simpleimputer__strategy=mean \n",
            "[CV]  randomforestclassifier__max_depth=20, randomforestclassifier__max_features=0.8030074204346229, randomforestclassifier__min_samples_split=3, randomforestclassifier__n_estimators=50, simpleimputer__strategy=mean, score=(train=0.962, test=0.795), total=  12.3s\n",
            "[CV] randomforestclassifier__max_depth=20, randomforestclassifier__max_features=0.8030074204346229, randomforestclassifier__min_samples_split=3, randomforestclassifier__n_estimators=50, simpleimputer__strategy=mean \n",
            "[CV]  randomforestclassifier__max_depth=20, randomforestclassifier__max_features=0.8030074204346229, randomforestclassifier__min_samples_split=3, randomforestclassifier__n_estimators=50, simpleimputer__strategy=mean, score=(train=0.964, test=0.806), total=  12.0s\n",
            "[CV] randomforestclassifier__max_depth=20, randomforestclassifier__max_features=0.8030074204346229, randomforestclassifier__min_samples_split=3, randomforestclassifier__n_estimators=50, simpleimputer__strategy=mean \n",
            "[CV]  randomforestclassifier__max_depth=20, randomforestclassifier__max_features=0.8030074204346229, randomforestclassifier__min_samples_split=3, randomforestclassifier__n_estimators=50, simpleimputer__strategy=mean, score=(train=0.963, test=0.802), total=  12.3s\n",
            "[CV] randomforestclassifier__max_depth=20, randomforestclassifier__max_features=0.8030074204346229, randomforestclassifier__min_samples_split=3, randomforestclassifier__n_estimators=50, simpleimputer__strategy=mean \n",
            "[CV]  randomforestclassifier__max_depth=20, randomforestclassifier__max_features=0.8030074204346229, randomforestclassifier__min_samples_split=3, randomforestclassifier__n_estimators=50, simpleimputer__strategy=mean, score=(train=0.965, test=0.799), total=  12.0s\n"
          ],
          "name": "stdout"
        },
        {
          "output_type": "stream",
          "text": [
            "[Parallel(n_jobs=-2)]: Done  50 out of  50 | elapsed: 26.2min finished\n"
          ],
          "name": "stderr"
        },
        {
          "output_type": "stream",
          "text": [
            "0.8143097643097643\n"
          ],
          "name": "stdout"
        }
      ]
    },
    {
      "cell_type": "code",
      "metadata": {
        "id": "vlZ-R9EKQ_pm",
        "colab_type": "code",
        "colab": {
          "base_uri": "https://localhost:8080/",
          "height": 34
        },
        "outputId": "3a4c6a39-944f-4cbf-9a71-d36ef3c62325"
      },
      "source": [
        "pipeline = search.best_estimator_\n",
        "print(pipeline.score(X_val, y_val))"
      ],
      "execution_count": 11,
      "outputs": [
        {
          "output_type": "stream",
          "text": [
            "0.8143097643097643\n"
          ],
          "name": "stdout"
        }
      ]
    },
    {
      "cell_type": "code",
      "metadata": {
        "id": "2k1-cOucSi81",
        "colab_type": "code",
        "colab": {
          "base_uri": "https://localhost:8080/",
          "height": 385
        },
        "outputId": "c6877829-5437-4f99-9cba-f1ce21e87ddc"
      },
      "source": [
        "from sklearn.metrics import plot_confusion_matrix\n",
        "plot_confusion_matrix(pipeline, X_val, y_val, values_format='.0f', xticks_rotation='vertical');"
      ],
      "execution_count": 13,
      "outputs": [
        {
          "output_type": "display_data",
          "data": {
            "image/png": "[encoded data removed]",
            "text/plain": [
              "<Figure size 432x288 with 2 Axes>"
            ]
          },
          "metadata": {
            "tags": []
          }
        }
      ]
    },
    {
      "cell_type": "code",
      "metadata": {
        "id": "Fpl0WxnURBXd",
        "colab_type": "code",
        "colab": {
          "base_uri": "https://localhost:8080/",
          "height": 607
        },
        "outputId": "c1ff3323-7ef3-4c2b-f9d9-30ec73d4ec3e"
      },
      "source": [
        "%matplotlib inline\n",
        "import matplotlib.pyplot as plt\n",
        "\n",
        "encoder = pipeline.named_steps['ordinalencoder']\n",
        "encoded = encoder.transform(train[features])\n",
        "\n",
        "# Get feature importances\n",
        "rf = pipeline.named_steps['randomforestclassifier']\n",
        "importances = pd.Series(rf.feature_importances_, encoded.columns)\n",
        "\n",
        "# Plot top n feature importances\n",
        "n = 20\n",
        "plt.figure(figsize=(10,n/2))\n",
        "plt.title(f'Top {n} features')\n",
        "importances.sort_values()[-n:].plot.barh();"
      ],
      "execution_count": 14,
      "outputs": [
        {
          "output_type": "display_data",
          "data": {
            "image/png": "[encoded data removed]",
            "text/plain": [
              "<Figure size 720x720 with 1 Axes>"
            ]
          },
          "metadata": {
            "tags": []
          }
        }
      ]
    },
    {
      "cell_type": "code",
      "metadata": {
        "id": "Cd5YCyZvRC8S",
        "colab_type": "code",
        "colab": {}
      },
      "source": [
        "# Save test results as a .csv:\n",
        "test['status_group'] = pipeline.predict(test[features])\n",
        "test[['id', 'status_group']].to_csv('submission.csv', index=False)"
      ],
      "execution_count": 0,
      "outputs": []
    }
  ]
}